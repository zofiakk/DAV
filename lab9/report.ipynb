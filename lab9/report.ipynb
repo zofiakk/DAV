{
 "cells": [
  {
   "attachments": {},
   "cell_type": "markdown",
   "metadata": {},
   "source": [
    "<h1><center>DaV report- homework 6</center></h1>\n",
    "<h1><center>Lab 10</center></h1>\n",
    "<h2><center>Zofia Kochańska</center></h2>"
   ]
  },
  {
   "attachments": {},
   "cell_type": "markdown",
   "metadata": {},
   "source": [
    "<br>\n",
    "The following report contains answers to 3 tasks focused on analyzing and predicting the weather in some countries. All of the scripts used to solve those tasks were written using Python and its libraries. Answers to first two task stationary include plots below which there are short captions explaining their contents. The last task included a table presenting values of quality metric MAE used to calculate model fitness. \n",
    "\n",
    "<ul>\n",
    "<li> <a href=\"#line_plot\"> Task 2- Scatter plots </a> </li>\n",
    "<li> <a href=\"#box_plot\">  Task 3- Forecasting </a></li>\n",
    "<li> <a href=\"#bubble_plot\"> Task 4- Cross-validation</a> </li>\n",
    "</ul>"
   ]
  },
  {
   "attachments": {},
   "cell_type": "markdown",
   "metadata": {},
   "source": [
    "<a id=\"line_plot\"><h2> Task 2- Scatter plots </h2> </a>"
   ]
  },
  {
   "attachments": {},
   "cell_type": "markdown",
   "metadata": {},
   "source": [
    "The first type of plot presented is a scatter plot displaying the average temperatures in 8 countries across the years. Each data point is the equivalent of the mean of the data collected in a given year in different cities in a given country. All of those plots share the X-axis and Y-axis ranges to allow a better comparison. Those plots can be used to initially observe trends present in temperatures in some countries such as their increase (Fig.6) or relative steadiness (first part of Fig.7)."
   ]
  },
  {
   "attachments": {},
   "cell_type": "markdown",
   "metadata": {},
   "source": [
    "<figure>\n",
    "<center>\n",
    "<img src=\"./images/Brazil.png\" width=\"700\" align=\"center\" alt=\"Scatter plot 1\">\n",
    "<figcaption>Fig.1 Scatter plot showing average temperatures in Brazil</figcaption>\n",
    "</center>\n",
    "</figure>\n",
    "\n",
    "<figure>\n",
    "<center>\n",
    "<img src=\"./images/France.png\" width=\"700\" align=\"center\" alt=\"Scatter plot 2\">\n",
    "<figcaption>Fig.2 Scatter plot showing average temperatures in France</figcaption>\n",
    "</center>\n",
    "</figure>\n",
    "\n",
    "<figure>\n",
    "<center>\n",
    "<img src=\"./images/Japan.png\" width=\"700\" align=\"center\" alt=\"Scatter plot 3\">\n",
    "<figcaption>Fig.3 Scatter plot showing average temperatures in Japan</figcaption>\n",
    "</center>\n",
    "</figure>\n",
    "\n",
    "<figure>\n",
    "<center>\n",
    "<img src=\"./images/New_Zealand.png\" width=\"700\" align=\"center\" alt=\"Scatter plot 4\">\n",
    "<figcaption>Fig.4 Scatter plot showing average temperatures in New Zealand</figcaption>\n",
    "</center>\n",
    "</figure>\n",
    "\n",
    "<figure>\n",
    "<center>\n",
    "<img src=\"./images/Poland.png\" width=\"700\" align=\"center\" alt=\"Scatter plot 5\">\n",
    "<figcaption>Fig.5 Scatter plot showing average temperatures in Poland</figcaption>\n",
    "</center>\n",
    "</figure>\n",
    "\n",
    "<figure>\n",
    "<center>\n",
    "<img src=\"./images/South_Africa.png\" width=\"700\" align=\"center\" alt=\"Scatter plot 6\">\n",
    "<figcaption>Fig.6 Scatter plot showing average temperatures in South Africa</figcaption>\n",
    "</center>\n",
    "</figure>\n",
    "\n",
    "<figure>\n",
    "<center>\n",
    "<img src=\"./images/Sweden.png\" width=\"700\" align=\"center\" alt=\"Scatter plot 7\">\n",
    "<figcaption>Fig.7 Scatter plot showing average temperatures in Sweden</figcaption>\n",
    "</center>\n",
    "</figure>\n",
    "\n",
    "<figure>\n",
    "<center>\n",
    "<img src=\"./images/Ukraine.png\" width=\"700\" align=\"center\" alt=\"Scatter plot 8\">\n",
    "<figcaption>Fig.8 Scatter plot showing average temperatures in Ukraine</figcaption>\n",
    "</center>\n",
    "</figure>"
   ]
  },
  {
   "attachments": {},
   "cell_type": "markdown",
   "metadata": {},
   "source": [
    "<a id=\"box_plot\"><h2> Task 3- Forecasting </h2> </a>"
   ]
  },
  {
   "attachments": {},
   "cell_type": "markdown",
   "metadata": {},
   "source": [
    "The following plots show the temperature predictions for the next 250 years. They were created using 3 different Time Series Forecasting Methods:\n",
    "<ul>\n",
    "<li> Autoregression (AR) </a> </li>\n",
    "<li> Autoregressive Integrated Moving Average (ARIMA) </a></li>\n",
    "<li> Vector Autoregression (VAR)</a> </li>\n",
    "</ul>\n",
    "\n",
    "All of those models are implemented in the \"statsmodels\" library and can be used to after fitting predict (forecast) next observations. Actual temperatures are showed by blue lines, whereas the red one shows the fitted models. The orange line shows the forecasted temperatures with their confidence interval marked by grey shadow. "
   ]
  },
  {
   "attachments": {},
   "cell_type": "markdown",
   "metadata": {},
   "source": [
    "### AR model\n",
    "<figure>\n",
    "<center>\n",
    "<img src=\"./images/Japan_ar.png\" width=\"700\" align=\"center\" alt=\"AR plot 1\">\n",
    "<figcaption>Fig.9 Line plot showing AR model fitted to temperatures observed in Japan</figcaption>\n",
    "</center>\n",
    "</figure>\n",
    "\n",
    "<figure>\n",
    "<center>\n",
    "<img src=\"./images/Poland_ar.png\" width=\"700\" align=\"center\" alt=\"AR plot 2\">\n",
    "<figcaption>Fig.10 Line plot showing AR model fitted to temperatures observed in Poland</figcaption>\n",
    "</center>\n",
    "</figure>\n",
    "\n",
    "<figure>\n",
    "<center>\n",
    "<img src=\"./images/Ukraine_ar.png\" width=\"700\" align=\"center\" alt=\"AR plot 3\">\n",
    "<figcaption>Fig.11 Line plot showing AR model fitted to temperatures observed in Ukraine</figcaption>\n",
    "</center>\n",
    "</figure>\n",
    "\n",
    "### ARIMA model\n",
    "\n",
    "<figure>\n",
    "<center>\n",
    "<img src=\"./images/Japan_arima.png\" width=\"700\" align=\"center\" alt=\"ARIMA plot 1\">\n",
    "<figcaption>Fig.12 Line plot showing ARIMA model fitted to temperatures observed in Japan</figcaption>\n",
    "</center>\n",
    "</figure>\n",
    "\n",
    "<figure>\n",
    "<center>\n",
    "<img src=\"./images/Poland_arima.png\" width=\"700\" align=\"center\" alt=\"ARIMA plot 2\">\n",
    "<figcaption>Fig.13 Line plot showing ARIMA model fitted to temperatures observed in Poland</figcaption>\n",
    "</center>\n",
    "</figure>\n",
    "\n",
    "<figure>\n",
    "<center>\n",
    "<img src=\"./images/Ukraine_arima.png\" width=\"700\" align=\"center\" alt=\"ARIMA plot 3\">\n",
    "<figcaption>Fig.14 Line plot showing ARIM model fitted to temperatures observed in Ukraine</figcaption>\n",
    "</center>\n",
    "</figure>\n",
    "\n",
    "### VAR model\n",
    "\n",
    "<figure>\n",
    "<center>\n",
    "<img src=\"./images/Japan_var.png\" width=\"700\" align=\"center\" alt=\"VAR plot 1\">\n",
    "<figcaption>Fig.15 Line plot showing VAR model fitted to temperatures observed in Japan</figcaption>\n",
    "</center>\n",
    "</figure>\n",
    "\n",
    "<figure>\n",
    "<center>\n",
    "<img src=\"./images/Poland_var.png\" width=\"700\" align=\"center\" alt=\"VAR plot 2\">\n",
    "<figcaption>Fig.16 Line plot showing VAR model fitted to temperatures observed in Poland</figcaption>\n",
    "</center>\n",
    "</figure>\n",
    "\n",
    "<figure>\n",
    "<center>\n",
    "<img src=\"./images/Ukraine_var.png\" width=\"700\" align=\"center\" alt=\"VAR plot 3\">\n",
    "<figcaption>Fig.17 Line plot showing VAR model fitted to temperatures observed in Ukraine</figcaption>\n",
    "</center>\n",
    "</figure>"
   ]
  },
  {
   "attachments": {},
   "cell_type": "markdown",
   "metadata": {},
   "source": [
    "<a id=\"bubble_plot\"><h2> Task 4- Cross-validation </h2> </a>"
   ]
  },
  {
   "attachments": {},
   "cell_type": "markdown",
   "metadata": {},
   "source": [
    "This task was focused on scoring models created and used in a previous task. This was completed using MAE fitness metric and TimeSeriesSplit dividing data into train and test datasets. Values of this metric were calculated for each of 10 splits for each country and model and then presented in a Tab.1 as their mean. "
   ]
  },
  {
   "attachments": {},
   "cell_type": "markdown",
   "metadata": {},
   "source": [
    "<center>\n",
    "<table class=\"table table-bordered table-hover table-condensed\">\n",
    "    <thead><tr><th title=\"Field #1\"></th>\n",
    "    <th title=\"Field #2\">AR</th>\n",
    "    <th title=\"Field #3\">ARIMA</th>\n",
    "    <th title=\"Field #4\">VAR</th>\n",
    "    </tr></thead>\n",
    "    <tbody><tr>\n",
    "    <td>Poland</td>\n",
    "    <td>0.769</td>\n",
    "    <td>0.966</td>\n",
    "    <td>0.773</td>\n",
    "    </tr>\n",
    "    <tr>\n",
    "    <td>Ukraine</td>\n",
    "    <td>0.710</td>\n",
    "    <td>0.946</td>\n",
    "    <td>0.730</td>\n",
    "    </tr>\n",
    "    </tbody>\n",
    "    </table>\n",
    "<tabcaption>Tab.1 Table showing the MAE values calculated for different countries and models</tabcaption>\n",
    "</center>"
   ]
  }
 ],
 "metadata": {
  "kernelspec": {
   "display_name": "Python 3",
   "language": "python",
   "name": "python3"
  },
  "language_info": {
   "codemirror_mode": {
    "name": "ipython",
    "version": 3
   },
   "file_extension": ".py",
   "mimetype": "text/x-python",
   "name": "python",
   "nbconvert_exporter": "python",
   "pygments_lexer": "ipython3",
   "version": "3.9.7"
  },
  "orig_nbformat": 4,
  "vscode": {
   "interpreter": {
    "hash": "8b32640c4aef0e271756fd508851570c54e076a2050bd28dfe72ce3c903f3af5"
   }
  }
 },
 "nbformat": 4,
 "nbformat_minor": 2
}
